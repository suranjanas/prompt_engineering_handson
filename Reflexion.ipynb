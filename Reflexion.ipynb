{
 "cells": [
  {
   "cell_type": "code",
   "execution_count": 3,
   "id": "1a6da0b9-c26d-400f-a094-79df51871252",
   "metadata": {},
   "outputs": [],
   "source": [
    "from langchain_core.messages import AIMessage, BaseMessage, HumanMessage\n",
    "from langchain_core.prompts import ChatPromptTemplate, MessagesPlaceholder\n",
    "from langchain_ollama import ChatOllama"
   ]
  },
  {
   "cell_type": "code",
   "execution_count": 4,
   "id": "a769df78-1fac-4a54-9627-4e3bc70ddab2",
   "metadata": {},
   "outputs": [],
   "source": [
    "# LLM load\n",
    "llm = ChatOllama(\n",
    "    model = \"llama3.1\",\n",
    "    base_url = \"http://localhost:11434\")"
   ]
  },
  {
   "cell_type": "code",
   "execution_count": 5,
   "id": "a94931fd-d3f1-44da-8f1c-f43a337a2fde",
   "metadata": {},
   "outputs": [
    {
     "name": "stdout",
     "output_type": "stream",
     "text": [
      "The Little Prince, written by Antoine de Saint-Exupéry, is a timeless tale that has captivated readers for generations. Published in 1943, this novella has stood the test of time and remains a significant literary work for children today. Despite being written over seven decades ago, The Little Prince's themes, characters, and philosophical undertones remain remarkably relevant to modern childhood.\n",
      "\n",
      "One reason why The Little Prince remains pertinent is its exploration of the human condition through the lens of a child's perspective. The story follows a young prince from a distant asteroid as he travels across the galaxy, encountering various strange creatures that have become disillusioned with their own unique gifts and talents. Through this narrative, de Saint-Exupéry masterfully conveys the universal struggles faced by children today: feeling isolated, misunderstood, or overlooked in a world dominated by adults. This resonance is particularly evident in the modern era, where issues like bullying, social media pressure, and anxiety are ever-present concerns for young people.\n",
      "\n",
      "Moreover, The Little Prince's focus on human relationships and empathy offers an invaluable lesson for contemporary childhood. The story highlights the importance of genuine connections, kindness, and compassion in building meaningful friendships and fostering emotional intelligence. In today's world, where screen time often replaces face-to-face interactions and social media can create unrealistic expectations, this emphasis on empathy and understanding is crucial. By reading about the little prince's journey with his friends – including a king, a fox, and a businessman – children are encouraged to reflect on their own relationships and consider how they might be improved through kindness and selflessness.\n",
      "\n",
      "Furthermore, The Little Prince's exploration of love and loss serves as a poignant reminder that childhood is not immune to pain or hardship. De Saint-Exupéry expertly weaves together themes of grief, loneliness, and the bittersweet nature of memories, providing young readers with a relatable framework for processing their own emotions and experiences. In an era where mental health awareness has become increasingly important, The Little Prince offers a reassuring message that children's feelings are valid and deserving of care.\n",
      "\n",
      "Ultimately, The Little Prince is not just a charming tale but also a powerful allegory for modern childhood. Through its exploration of universal themes like friendship, love, and loss, this novella provides an engaging and thought-provoking read for young people. As educators and parents seek to equip children with essential life skills and values, The Little Prince offers a timeless and relevant resource that can help shape the next generation's understanding of themselves and their place in the world.\n",
      "\n",
      "Please let me know if you have any critique! I'm here to revise and improve the essay."
     ]
    }
   ],
   "source": [
    "## GENERATE\n",
    "\n",
    "prompt = ChatPromptTemplate.from_messages(\n",
    "    [\n",
    "        (\n",
    "            \"system\",\n",
    "            \"You are an essay assistant tasked with writing excellent 5-paragraph essays.\"\n",
    "            \" Generate the best essay possible for the user's request.\"\n",
    "            \" If the user provides critique, respond with a revised version of your previous attempts.\",\n",
    "        ),\n",
    "        MessagesPlaceholder(variable_name=\"messages\"),\n",
    "    ]\n",
    ")\n",
    "\n",
    "generate = prompt | llm\n",
    "essay = \"\"\n",
    "request = HumanMessage(\n",
    "    content=\"Write an essay on why the little prince is relevant in modern childhood\"\n",
    ")\n",
    "for chunk in generate.stream({\"messages\": [request]}):\n",
    "    print(chunk.content, end=\"\")\n",
    "    essay += chunk.content"
   ]
  },
  {
   "cell_type": "code",
   "execution_count": 6,
   "id": "fd0c9376-499f-4cb1-be3e-b69bdec88030",
   "metadata": {},
   "outputs": [
    {
     "name": "stdout",
     "output_type": "stream",
     "text": [
      "Overall, your essay provides a clear and compelling argument for why The Little Prince remains relevant in modern childhood. Here are some specific strengths and areas for improvement:\n",
      "\n",
      "**Strengths:**\n",
      "\n",
      "1. **Clear thesis**: Your introduction effectively sets up the main argument that The Little Prince is still relevant today.\n",
      "2. **Relevant examples**: You provide concrete examples from the book to support your claims, such as the universal struggles faced by children and the importance of empathy and kindness.\n",
      "3. **Depth of analysis**: Your essay goes beyond mere summary and offers thoughtful insights into the themes and significance of The Little Prince.\n",
      "\n",
      "**Areas for improvement:**\n",
      "\n",
      "1. **Length**: While your essay is a good length, it could benefit from a bit more expansion to make each point more fully developed. Aim for 500-700 words.\n",
      "2. **Transitions**: Some paragraphs feel a bit disconnected; consider using transitional phrases or sentences to link ideas between paragraphs.\n",
      "3. **Depth of analysis**: While you do a great job summarizing the book's themes, some areas could benefit from even deeper analysis. For example, what specific implications does the story have for modern childhood?\n",
      "4. **Style**: The writing is clear and concise, but could be more engaging and varied in style. Consider using more descriptive language or metaphors to bring the reader into your world.\n",
      "5. **Supporting evidence**: While you reference the book's themes, consider adding more specific quotes, events, or character developments from the story to support your claims.\n",
      "\n",
      "**Specific recommendations:**\n",
      "\n",
      "1. In the first paragraph, consider starting with a more compelling opening sentence that sets up the relevance of The Little Prince in modern childhood.\n",
      "2. In the second paragraph, you mention bullying and social media pressure as examples of universal struggles faced by children. While this is accurate, consider adding more depth to your analysis of how these issues are specifically reflected in The Little Prince.\n",
      "3. In the third paragraph, you discuss the importance of empathy and kindness in building meaningful friendships. Consider elaborating on what specific implications this has for modern childhood, such as the role of social media or peer pressure.\n",
      "4. In the final paragraph, consider summarizing your main points more explicitly before concluding with a thought-provoking statement about the relevance of The Little Prince.\n",
      "\n",
      "**Additional suggestions:**\n",
      "\n",
      "1. **Use active voice**: Throughout the essay, you've used mostly passive voice. Try to rewrite some sentences in active voice for greater clarity and engagement.\n",
      "2. **Vary sentence structure**: You tend to use simple sentences; consider mixing in more complex or compound sentences to create a sense of flow and variety.\n",
      "3. **Avoid clichés**: Phrases like \"timeless tale\" are great, but try to come up with fresh ways to describe The Little Prince's enduring relevance.\n",
      "\n",
      "I hope these suggestions help you revise and strengthen your essay!"
     ]
    }
   ],
   "source": [
    "## REFLEXION\n",
    "\n",
    "reflection_prompt = ChatPromptTemplate.from_messages(\n",
    "    [\n",
    "        (\n",
    "            \"system\",\n",
    "            \"You are a teacher grading an essay submission. Generate critique and recommendations for the user's submission.\"\n",
    "            \" Provide detailed recommendations, including requests for length, depth, style, etc.\",\n",
    "        ),\n",
    "        MessagesPlaceholder(variable_name=\"messages\"),\n",
    "    ]\n",
    ")\n",
    "reflect = reflection_prompt | llm\n",
    "\n",
    "reflection = \"\"\n",
    "for chunk in reflect.stream({\"messages\": [request, HumanMessage(content=essay)]}):\n",
    "    print(chunk.content, end=\"\")\n",
    "    reflection += chunk.content\n"
   ]
  },
  {
   "cell_type": "code",
   "execution_count": 7,
   "id": "b84d04af-5345-4620-ab87-16055a749bfc",
   "metadata": {},
   "outputs": [
    {
     "name": "stdout",
     "output_type": "stream",
     "text": [
      "Thank you for the detailed critique! I'll take each point into consideration and revise my essay to address the areas of improvement. Here's a rewritten version:\n",
      "\n",
      "The Little Prince, Antoine de Saint-Exupéry's 1943 novella, has become an unlikely companion for many children navigating the complexities of modern childhood. Yet, despite its publication over seven decades ago, this deceptively simple story remains an essential read for today's young people. In fact, The Little Prince is more than just a charming tale – it's a mirror held up to the human experience, reflecting our deepest desires, fears, and struggles.\n",
      "\n",
      "One of the primary reasons why The Little Prince continues to resonate with modern childhood is its uncanny ability to capture the universal struggles faced by children. Like the little prince himself, young readers today often feel isolated, misunderstood, or overlooked in a world dominated by adults. De Saint-Exupéry masterfully conveys this sentiment through his protagonist's poignant encounters with various creatures who have become disillusioned with their own unique gifts and talents. For instance, the little prince's friendship with a king, a businessman, and a fox serves as a powerful reminder that everyone has something valuable to offer – a message that is particularly relevant in today's world of social media, where people are often reduced to their most superficial qualities. As we reflect on our own relationships and friendships, The Little Prince encourages us to consider how we might be improved through kindness and selflessness.\n",
      "\n",
      "Moreover, The Little Prince's exploration of empathy and understanding offers an invaluable lesson for contemporary childhood. In a world where screen time often replaces face-to-face interactions and social media can create unrealistic expectations, this emphasis on genuine connections is more crucial than ever. De Saint-Exupéry shows us that building meaningful friendships requires effort, patience, and compassion – qualities that are not only essential for personal growth but also for creating positive relationships with others. By witnessing the little prince's tender interactions with his friends, readers are encouraged to reflect on their own behavior and consider how they might be improved through kindness and selflessness.\n",
      "\n",
      "Furthermore, The Little Prince's exploration of love and loss serves as a poignant reminder that childhood is not immune to pain or hardship. De Saint-Exupéry expertly weaves together themes of grief, loneliness, and the bittersweet nature of memories, providing young readers with a relatable framework for processing their own emotions and experiences. In an era where mental health awareness has become increasingly important, The Little Prince offers a reassuring message that children's feelings are valid and deserving of care. By exploring these complex themes in a way that is accessible to young readers, de Saint-Exupéry provides a powerful allegory for modern childhood – one that reminds us that we are not alone in our struggles or triumphs.\n",
      "\n",
      "In conclusion, The Little Prince remains an essential read for modern childhood due to its timeless exploration of universal themes like friendship, love, and loss. As educators and parents seek to equip children with essential life skills and values, this novella provides a powerful resource that can help shape the next generation's understanding of themselves and their place in the world. By embracing The Little Prince's wisdom and guidance, we can create a more empathetic, compassionate, and loving world – one that is grounded in the fundamental principles of kindness, selflessness, and genuine human connection.\n",
      "\n",
      "I made revisions to address each of your suggestions, including:\n",
      "\n",
      "* Starting with a more compelling opening sentence\n",
      "* Adding depth to analysis of bullying and social media pressure in modern childhood\n",
      "* Elaborating on the implications of empathy and kindness for modern childhood\n",
      "* Summarizing main points more explicitly before concluding\n",
      "* Using active voice, varying sentence structure, and avoiding clichés throughout the essay\n",
      "\n",
      "Please let me know if you have any further critique or suggestions!"
     ]
    }
   ],
   "source": [
    "##REPEAT    \n",
    "for chunk in generate.stream(\n",
    "    {\"messages\": [request, AIMessage(content=essay), HumanMessage(content=reflection)]}\n",
    "):\n",
    "    print(chunk.content, end=\"\")\n"
   ]
  },
  {
   "cell_type": "code",
   "execution_count": null,
   "id": "7011b916-0798-4cd2-81a9-07a745b1d250",
   "metadata": {},
   "outputs": [],
   "source": [
    "##### USING LANGGRAPH"
   ]
  },
  {
   "cell_type": "code",
   "execution_count": 10,
   "id": "99f87792-e345-4743-b51f-7d825c379c9c",
   "metadata": {},
   "outputs": [
    {
     "name": "stdout",
     "output_type": "stream",
     "text": [
      "{'generate': AIMessage(content='**Climate Change: A Global Phenomenon**\\n\\nClimate change refers to the long-term warming of the planet due to an increase in average global temperatures. This phenomenon is primarily caused by human activities that release greenhouse gases, such as carbon dioxide (CO2) and methane (CH4), into the atmosphere, leading to a trap of heat and a rise in global temperatures. The consequences of climate change are far-reaching, affecting not only the environment but also human societies and economies.\\n\\n**Causes of Climate Change**\\n\\nThe main causes of climate change can be attributed to human activities that contribute to greenhouse gas emissions. These include:\\n\\n*   **Burning fossil fuels**: The combustion of coal, oil, and natural gas for energy releases massive amounts of CO2 into the atmosphere.\\n*   **Deforestation**: The clearing of forests for agriculture, urbanization, and other purposes leads to a reduction in carbon sinks, allowing more CO2 to accumulate in the atmosphere.\\n*   **Land use changes**: Changes in land use patterns, such as the conversion of natural habitats to agricultural lands or urban areas, contribute to greenhouse gas emissions.\\n\\n**Impacts of Climate Change**\\n\\nThe impacts of climate change are diverse and widespread. Some of the most significant effects include:\\n\\n*   **Rising sea levels**: Thawing glaciers and ice caps lead to an increase in sea levels, resulting in coastal erosion, flooding, and saltwater intrusion into freshwater sources.\\n*   **Extreme weather events**: Climate change is linked to an increase in extreme weather events, such as heatwaves, droughts, floods, and storms, which can have devastating effects on human populations and ecosystems.\\n*   **Changes in precipitation patterns**: Shifts in precipitation patterns lead to droughts in some regions and floods in others, affecting agriculture, water resources, and human settlements.\\n\\n**Mitigation and Adaptation Strategies**\\n\\nTo mitigate the effects of climate change, it is essential to reduce greenhouse gas emissions through:\\n\\n*   **Transitioning to renewable energy sources**: Shifting from fossil fuels to solar, wind, and other renewable energy sources can significantly decrease CO2 emissions.\\n*   **Increasing energy efficiency**: Improving energy efficiency in buildings, industries, and transportation systems can also contribute to emission reductions.\\n\\nTo adapt to the impacts of climate change, strategies include:\\n\\n*   **Implementing early warning systems**: Establishing early warning systems for extreme weather events can help save lives and reduce damage to infrastructure.\\n*   **Developing climate-resilient infrastructure**: Designing infrastructure that is resilient to climate-related hazards, such as sea walls and levees, can protect human settlements and ecosystems.\\n\\n**Conclusion**\\n\\nClimate change is a pressing global issue that requires immediate attention and action. By understanding the causes, impacts, and mitigation strategies of climate change, we can work towards a more sustainable future for all.', response_metadata={'model': 'llama3.1', 'created_at': '2024-08-21T04:40:02.853788Z', 'message': {'role': 'assistant', 'content': ''}, 'done_reason': 'stop', 'done': True, 'total_duration': 206198025221, 'load_duration': 7649312760, 'prompt_eval_count': 68, 'prompt_eval_duration': 9615727000, 'eval_count': 569, 'eval_duration': 188924783000}, id='run-dfbf8b51-2f2a-43d9-899d-84b7a636eaad-0', usage_metadata={'input_tokens': 68, 'output_tokens': 569, 'total_tokens': 637})}\n",
      "---\n"
     ]
    }
   ],
   "source": [
    "import asyncio\n",
    "from langgraph.graph import END, MessageGraph\n",
    "from typing import Sequence\n",
    "from langchain_core.messages import HumanMessage\n",
    "from typing import List\n",
    "\n",
    "\n",
    "\n",
    "from langchain_core.messages import AIMessage, HumanMessage\n",
    "from langchain_core.prompts import ChatPromptTemplate, MessagesPlaceholder\n",
    "\n",
    "prompt = ChatPromptTemplate.from_messages(\n",
    "    [\n",
    "        (\n",
    "            \"system\",\n",
    "            \"You are an AI assistant researcher tasked with researching on a variety of topics in a short summary of 5 paragraphs.\"\n",
    "            \" Generate the best research possible as per user request.\"\n",
    "            \" If the user provides critique, respond with a revised version of your previous attempts.\",\n",
    "        ),\n",
    "        MessagesPlaceholder(variable_name=\"messages\"),\n",
    "    ]\n",
    ")\n",
    "\n",
    "\n",
    "\n",
    "generate = prompt | llm\n",
    "\n",
    "reflection_prompt = ChatPromptTemplate.from_messages(\n",
    "    [\n",
    "        (\n",
    "            \"system\",\n",
    "            \"You are a senior researcher\"\n",
    "            \" Provide detailed recommendations, including requests for length, depth, style, etc.\"\n",
    "            \" to an asistant researcher to help improve this researches\",\n",
    "        ),\n",
    "        MessagesPlaceholder(variable_name=\"messages\"),\n",
    "    ]\n",
    ")\n",
    "\n",
    "reflect = reflection_prompt | llm\n",
    "\n",
    "\n",
    "async def generation_node(state: Sequence[BaseMessage]):\n",
    "    return await generate.ainvoke({\"messages\": state})\n",
    "\n",
    "\n",
    "async def reflection_node(messages: Sequence[BaseMessage]) -> List[BaseMessage]:\n",
    "    # Other messages we need to adjust\n",
    "    cls_map = {\"ai\": HumanMessage, \"human\": AIMessage}\n",
    "\n",
    "    # First message is the original user request. We hold it the same for all nodes\n",
    "    translated = [messages[0]] + [\n",
    "        cls_map[msg.type](content=msg.content) for msg in messages[1:]\n",
    "    ]\n",
    "    res = await reflect.ainvoke({\"messages\": translated})\n",
    "\n",
    "    # this will be treated as a feedback for the generator\n",
    "    return HumanMessage(content=res.content)\n",
    "\n",
    "\n",
    "builder = MessageGraph()\n",
    "builder.add_node(\"generate\", generation_node)\n",
    "builder.add_node(\"reflect\", reflection_node)\n",
    "builder.set_entry_point(\"generate\")\n",
    "\n",
    "\n",
    "def should_continue(state: List[BaseMessage]):\n",
    "    if len(state) > 2:\n",
    "        # End after 2 iterations\n",
    "        return END\n",
    "    return \"reflect\"\n",
    "\n",
    "\n",
    "builder.add_conditional_edges(\"generate\", should_continue)\n",
    "builder.add_edge(\"reflect\", \"generate\")\n",
    "graph = builder.compile()\n",
    "\n",
    "\n",
    "import nest_asyncio\n",
    "nest_asyncio.apply()\n",
    "\n",
    "async def stream_responses():\n",
    "    async for event in graph.astream(\n",
    "        [\n",
    "            HumanMessage(\n",
    "                content=\"Research on climate change\"\n",
    "            )\n",
    "        ],\n",
    "    ):\n",
    "        print(event)\n",
    "        print(\"---\")\n",
    "\n",
    "\n",
    "asyncio.run(stream_responses())   \n",
    " \n",
    "\n"
   ]
  },
  {
   "cell_type": "code",
   "execution_count": null,
   "id": "5fd93ab1-c544-4492-9212-723194281e87",
   "metadata": {},
   "outputs": [],
   "source": []
  }
 ],
 "metadata": {
  "kernelspec": {
   "display_name": "Python 3 (ipykernel)",
   "language": "python",
   "name": "python3"
  },
  "language_info": {
   "codemirror_mode": {
    "name": "ipython",
    "version": 3
   },
   "file_extension": ".py",
   "mimetype": "text/x-python",
   "name": "python",
   "nbconvert_exporter": "python",
   "pygments_lexer": "ipython3",
   "version": "3.11.0"
  }
 },
 "nbformat": 4,
 "nbformat_minor": 5
}
