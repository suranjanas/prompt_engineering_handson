{
 "cells": [
  {
   "cell_type": "code",
   "execution_count": 1,
   "id": "1a6da0b9-c26d-400f-a094-79df51871252",
   "metadata": {},
   "outputs": [],
   "source": [
    "from langchain_core.messages import AIMessage, BaseMessage, HumanMessage\n",
    "from langchain_core.prompts import ChatPromptTemplate, MessagesPlaceholder\n",
    "from langchain_ollama import ChatOllama"
   ]
  },
  {
   "cell_type": "code",
   "execution_count": 2,
   "id": "a769df78-1fac-4a54-9627-4e3bc70ddab2",
   "metadata": {},
   "outputs": [],
   "source": [
    "\n",
    "llm = ChatOllama(\n",
    "    model = \"llama3.1\",\n",
    "    #model = \"gemma\",\n",
    "    base_url = \"http://localhost:11434\")\n"
   ]
  },
  {
   "cell_type": "code",
   "execution_count": 3,
   "id": "a94931fd-d3f1-44da-8f1c-f43a337a2fde",
   "metadata": {},
   "outputs": [
    {
     "name": "stdout",
     "output_type": "stream",
     "text": [
      "The Little Prince, written by Antoine de Saint-Exupéry, has been a timeless classic since its publication in 1943. Despite being penned over seven decades ago, this novella continues to captivate children and adults alike with its poignant tale of friendship, love, and the human condition. The themes explored in The Little Prince are remarkably relevant to modern childhood, making it an essential read for young people today.\n",
      "\n",
      "One of the primary reasons why The Little Prince remains so pertinent is its exploration of the complexities of growing up. In a world that often values material possessions and external validation, the novella's protagonist, the Little Prince, teaches children about the importance of inner wisdom, emotional intelligence, and genuine connections with others. As children navigate their own experiences of growth, The Little Prince reminds them that true happiness comes from nurturing meaningful relationships and pursuing one's passions, rather than merely accumulating wealth or status.\n",
      "\n",
      "Furthermore, The Little Prince tackles issues that are all too relevant in modern childhood, such as bullying, social isolation, and the pressure to conform. The novella depicts the Little Prince's encounters with various strangers who fail to understand him, mirroring the experiences of many children who feel marginalized or excluded by their peers. By exploring these themes through the lens of a kind, gentle prince from another planet, de Saint-Exupéry encourages readers to empathize with those who may be different and promotes a culture of acceptance and compassion.\n",
      "\n",
      "Moreover, The Little Prince's message about the fleeting nature of adult concerns is particularly relevant in today's fast-paced world. As children are increasingly exposed to screens, social media, and the pressures of academic achievement, they often find themselves caught up in the whirlwind of adult anxieties. De Saint-Exupéry's novella reminds them that these worries are short-lived and ephemeral, while true happiness lies in the simple joys of life – like friendship, love, and connection with nature.\n",
      "\n",
      "In conclusion, The Little Prince is a timeless tale that resonates deeply with modern childhood. Its exploration of growing up, bullying, social isolation, and the pressures of adult life makes it an essential read for young people today. As children navigate their own experiences, they can draw on the wisdom and empathy offered by this novella to cultivate a more compassionate, accepting, and authentic world – one that values relationships over possessions, kindness over conformity, and the beauty of life over its fleeting concerns.\n",
      "\n",
      "(Note: I wrote this essay in 5 paragraphs as per your request. If you'd like me to revise anything or provide further critique, please let me know!)"
     ]
    }
   ],
   "source": [
    "## GENERATE\n",
    "\n",
    "prompt = ChatPromptTemplate.from_messages(\n",
    "    [\n",
    "        (\n",
    "            \"system\",\n",
    "            \"You are an essay assistant tasked with writing excellent 5-paragraph essays.\"\n",
    "            \" Generate the best essay possible for the user's request.\"\n",
    "            \" If the user provides critique, respond with a revised version of your previous attempts.\",\n",
    "        ),\n",
    "        MessagesPlaceholder(variable_name=\"messages\"),\n",
    "    ]\n",
    ")\n",
    "\n",
    "generate = prompt | llm\n",
    "essay = \"\"\n",
    "request = HumanMessage(\n",
    "    content=\"Write an essay on why the little prince is relevant in modern childhood\"\n",
    ")\n",
    "for chunk in generate.stream({\"messages\": [request]}):\n",
    "    print(chunk.content, end=\"\")\n",
    "    essay += chunk.content"
   ]
  },
  {
   "cell_type": "code",
   "execution_count": null,
   "id": "fd0c9376-499f-4cb1-be3e-b69bdec88030",
   "metadata": {},
   "outputs": [
    {
     "name": "stdout",
     "output_type": "stream",
     "text": [
      "**Grade:** B+ (87%)\n",
      "\n",
      "**"
     ]
    }
   ],
   "source": [
    "## REFLEXION\n",
    "\n",
    "reflection_prompt = ChatPromptTemplate.from_messages(\n",
    "    [\n",
    "        (\n",
    "            \"system\",\n",
    "            \"You are a teacher grading an essay submission. Generate critique and recommendations for the user's submission.\"\n",
    "            \" Provide detailed recommendations, including requests for length, depth, style, etc.\",\n",
    "        ),\n",
    "        MessagesPlaceholder(variable_name=\"messages\"),\n",
    "    ]\n",
    ")\n",
    "reflect = reflection_prompt | llm\n",
    "\n",
    "reflection = \"\"\n",
    "for chunk in reflect.stream({\"messages\": [request, HumanMessage(content=essay)]}):\n",
    "    print(chunk.content, end=\"\")\n",
    "    reflection += chunk.content\n"
   ]
  },
  {
   "cell_type": "code",
   "execution_count": null,
   "id": "b84d04af-5345-4620-ab87-16055a749bfc",
   "metadata": {},
   "outputs": [],
   "source": [
    "##REPEAT    \n",
    "for chunk in generate.stream(\n",
    "    {\"messages\": [request, AIMessage(content=essay), HumanMessage(content=reflection)]}\n",
    "):\n",
    "    print(chunk.content, end=\"\")\n"
   ]
  },
  {
   "cell_type": "code",
   "execution_count": null,
   "id": "7011b916-0798-4cd2-81a9-07a745b1d250",
   "metadata": {},
   "outputs": [],
   "source": [
    "##### USING LANGGRAPH"
   ]
  },
  {
   "cell_type": "code",
   "execution_count": null,
   "id": "99f87792-e345-4743-b51f-7d825c379c9c",
   "metadata": {},
   "outputs": [],
   "source": [
    "import asyncio\n",
    "from langgraph.graph import END, MessageGraph\n",
    "from typing import Sequence\n",
    "from langchain_core.messages import HumanMessage\n",
    "from typing import List\n",
    "\n",
    "\n",
    "\n",
    "from langchain_core.messages import AIMessage, HumanMessage\n",
    "from langchain_core.prompts import ChatPromptTemplate, MessagesPlaceholder\n",
    "\n",
    "prompt = ChatPromptTemplate.from_messages(\n",
    "    [\n",
    "        (\n",
    "            \"system\",\n",
    "            \"You are an AI assistant researcher tasked with researching on a variety of topics in a short summary of 5 paragraphs.\"\n",
    "            \" Generate the best research possible as per user request.\"\n",
    "            \" If the user provides critique, respond with a revised version of your previous attempts.\",\n",
    "        ),\n",
    "        MessagesPlaceholder(variable_name=\"messages\"),\n",
    "    ]\n",
    ")\n",
    "\n",
    "\n",
    "\n",
    "generate = prompt | llm\n",
    "\n",
    "reflection_prompt = ChatPromptTemplate.from_messages(\n",
    "    [\n",
    "        (\n",
    "            \"system\",\n",
    "            \"You are a senior researcher\"\n",
    "            \" Provide detailed recommendations, including requests for length, depth, style, etc.\"\n",
    "            \" to an asistant researcher to help improve this researches\",\n",
    "        ),\n",
    "        MessagesPlaceholder(variable_name=\"messages\"),\n",
    "    ]\n",
    ")\n",
    "\n",
    "reflect = reflection_prompt | llm\n",
    "\n",
    "\n",
    "async def generation_node(state: Sequence[BaseMessage]):\n",
    "    return await generate.ainvoke({\"messages\": state})\n",
    "\n",
    "\n",
    "async def reflection_node(messages: Sequence[BaseMessage]) -> List[BaseMessage]:\n",
    "    # Other messages we need to adjust\n",
    "    cls_map = {\"ai\": HumanMessage, \"human\": AIMessage}\n",
    "\n",
    "    # First message is the original user request. We hold it the same for all nodes\n",
    "    translated = [messages[0]] + [\n",
    "        cls_map[msg.type](content=msg.content) for msg in messages[1:]\n",
    "    ]\n",
    "    res = await reflect.ainvoke({\"messages\": translated})\n",
    "\n",
    "    # this will be treated as a feedback for the generator\n",
    "    return HumanMessage(content=res.content)\n",
    "\n",
    "\n",
    "builder = MessageGraph()\n",
    "builder.add_node(\"generate\", generation_node)\n",
    "builder.add_node(\"reflect\", reflection_node)\n",
    "builder.set_entry_point(\"generate\")\n",
    "\n",
    "\n",
    "def should_continue(state: List[BaseMessage]):\n",
    "    if len(state) > 2:\n",
    "        # End after 2 iterations\n",
    "        return END\n",
    "    return \"reflect\"\n",
    "\n",
    "\n",
    "builder.add_conditional_edges(\"generate\", should_continue)\n",
    "builder.add_edge(\"reflect\", \"generate\")\n",
    "graph = builder.compile()\n",
    "\n",
    "\n",
    "import nest_asyncio\n",
    "nest_asyncio.apply()\n",
    "\n",
    "async def stream_responses():\n",
    "    async for event in graph.astream(\n",
    "        [\n",
    "            HumanMessage(\n",
    "                content=\"Research on climate change\"\n",
    "            )\n",
    "        ],\n",
    "    ):\n",
    "        print(event)\n",
    "        print(\"---\")\n",
    "\n",
    "\n",
    "asyncio.run(stream_responses())   \n",
    " \n",
    "\n"
   ]
  },
  {
   "cell_type": "code",
   "execution_count": null,
   "id": "5fd93ab1-c544-4492-9212-723194281e87",
   "metadata": {},
   "outputs": [],
   "source": []
  }
 ],
 "metadata": {
  "kernelspec": {
   "display_name": "Python 3 (ipykernel)",
   "language": "python",
   "name": "python3"
  },
  "language_info": {
   "codemirror_mode": {
    "name": "ipython",
    "version": 3
   },
   "file_extension": ".py",
   "mimetype": "text/x-python",
   "name": "python",
   "nbconvert_exporter": "python",
   "pygments_lexer": "ipython3",
   "version": "3.10.14"
  }
 },
 "nbformat": 4,
 "nbformat_minor": 5
}
